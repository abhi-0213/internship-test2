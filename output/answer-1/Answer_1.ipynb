{
  "nbformat": 4,
  "nbformat_minor": 0,
  "metadata": {
    "colab": {
      "name": "Answer-1.ipynb",
      "provenance": [],
      "collapsed_sections": []
    },
    "kernelspec": {
      "name": "python3",
      "display_name": "Python 3"
    },
    "language_info": {
      "name": "python"
    }
  },
  "cells": [
    {
      "cell_type": "code",
      "execution_count": 2,
      "metadata": {
        "id": "5BP6u3Jrbd_3"
      },
      "outputs": [],
      "source": [
        "import pandas as pd\n",
        "data=pd.read_csv(\"main.csv\");\n"
      ]
    },
    {
      "cell_type": "code",
      "source": [
        "df=data.loc[data.isna().any(axis=1)]\n"
      ],
      "metadata": {
        "id": "M-VfNOvPdNuX"
      },
      "execution_count": 5,
      "outputs": []
    },
    {
      "cell_type": "code",
      "source": [
        "df1=data.dropna()"
      ],
      "metadata": {
        "id": "nxEkFYP5fNjm"
      },
      "execution_count": 6,
      "outputs": []
    },
    {
      "cell_type": "code",
      "source": [
        "splits = list(df1.groupby(\"product_description\"))\n",
        "len(splits)"
      ],
      "metadata": {
        "colab": {
          "base_uri": "https://localhost:8080/"
        },
        "id": "oi0nOQoUfVFP",
        "outputId": "de71c80b-2402-4625-dcd2-379becbd3c0c"
      },
      "execution_count": 7,
      "outputs": [
        {
          "output_type": "execute_result",
          "data": {
            "text/plain": [
              "10"
            ]
          },
          "metadata": {},
          "execution_count": 7
        }
      ]
    },
    {
      "cell_type": "code",
      "source": [
        "splits[0][0]"
      ],
      "metadata": {
        "colab": {
          "base_uri": "https://localhost:8080/",
          "height": 35
        },
        "id": "FC5aRPnHfWgr",
        "outputId": "3515b6c7-dc39-4b9c-8c2a-91ac7da4616c"
      },
      "execution_count": 8,
      "outputs": [
        {
          "output_type": "execute_result",
          "data": {
            "text/plain": [
              "'apple'"
            ],
            "application/vnd.google.colaboratory.intrinsic+json": {
              "type": "string"
            }
          },
          "metadata": {},
          "execution_count": 8
        }
      ]
    },
    {
      "cell_type": "code",
      "source": [
        "di={};\n",
        "for i in range(0,len(splits)):\n",
        "  di[splits[i][0]]=sum((splits[i][1]['price']*splits[i][1]['sales_quantity']))/sum(splits[i][1]['sales_quantity']);\n",
        "di['apple']"
      ],
      "metadata": {
        "colab": {
          "base_uri": "https://localhost:8080/"
        },
        "id": "UlyQMMtmfqET",
        "outputId": "e0e14899-4b4c-4a80-8d62-fcaaa6f4c2f4"
      },
      "execution_count": 9,
      "outputs": [
        {
          "output_type": "execute_result",
          "data": {
            "text/plain": [
              "2.07325"
            ]
          },
          "metadata": {},
          "execution_count": 9
        }
      ]
    },
    {
      "cell_type": "code",
      "source": [
        "p_new=[0]*df.shape[0];\n",
        "df['price_new']=p_new;\n",
        "for i in range(0,len(splits)):\n",
        "  df.loc[df[\"product_description\"] == splits[i][0], \"price_new\"] = di[splits[i][0]];\n",
        "df"
      ],
      "metadata": {
        "colab": {
          "base_uri": "https://localhost:8080/",
          "height": 823
        },
        "id": "YW7jsli-iNfA",
        "outputId": "6ee586ed-7671-4893-cc06-c838c3239f9f"
      },
      "execution_count": 10,
      "outputs": [
        {
          "output_type": "stream",
          "name": "stderr",
          "text": [
            "/usr/local/lib/python3.7/dist-packages/ipykernel_launcher.py:2: SettingWithCopyWarning: \n",
            "A value is trying to be set on a copy of a slice from a DataFrame.\n",
            "Try using .loc[row_indexer,col_indexer] = value instead\n",
            "\n",
            "See the caveats in the documentation: https://pandas.pydata.org/pandas-docs/stable/user_guide/indexing.html#returning-a-view-versus-a-copy\n",
            "  \n",
            "/usr/local/lib/python3.7/dist-packages/pandas/core/indexing.py:1817: SettingWithCopyWarning: \n",
            "A value is trying to be set on a copy of a slice from a DataFrame.\n",
            "Try using .loc[row_indexer,col_indexer] = value instead\n",
            "\n",
            "See the caveats in the documentation: https://pandas.pydata.org/pandas-docs/stable/user_guide/indexing.html#returning-a-view-versus-a-copy\n",
            "  self._setitem_single_column(loc, value, pi)\n"
          ]
        },
        {
          "output_type": "execute_result",
          "data": {
            "text/plain": [
              "     product_code product_description product_group  sales_date  price  \\\n",
              "10           1001              tomato     vegetable  2021-11-11    NaN   \n",
              "34           1002            cucumber     vegetable  2021-11-05    NaN   \n",
              "37           1002            cucumber     vegetable  2021-11-08    NaN   \n",
              "73           1003               onion     vegetable  2021-11-14    NaN   \n",
              "74           1003               onion     vegetable  2021-11-15    NaN   \n",
              "99           1101                plum         fruit  2021-11-10    NaN   \n",
              "127          1102              orange         fruit  2021-11-08    NaN   \n",
              "141          1102              orange         fruit  2021-11-22    NaN   \n",
              "154          1103               apple         fruit  2021-11-05    NaN   \n",
              "160          1103               apple         fruit  2021-11-11    NaN   \n",
              "176          1103               apple         fruit  2021-11-27    NaN   \n",
              "224          1201            milk-1.5         dairy  2021-11-15    NaN   \n",
              "230          1201            milk-1.5         dairy  2021-11-21    NaN   \n",
              "263          1202            yogurt-1         dairy  2021-11-24    NaN   \n",
              "279          1203         butter-0.25         dairy  2021-11-10    NaN   \n",
              "285          1203         butter-0.25         dairy  2021-11-16    NaN   \n",
              "\n",
              "     sales_quantity unit  price_new  \n",
              "10               20   kg   3.129515  \n",
              "34               24   kg   4.538954  \n",
              "37               38   kg   4.538954  \n",
              "73               39   kg   2.154286  \n",
              "74               25   kg   2.154286  \n",
              "99               36   kg   4.393506  \n",
              "127              28   kg   2.707126  \n",
              "141              38   kg   2.707126  \n",
              "154              28   kg   2.073250  \n",
              "160              21   kg   2.073250  \n",
              "176              29   kg   2.073250  \n",
              "224              24  pcs   6.084807  \n",
              "230              24  pcs   6.084807  \n",
              "263              29  pcs   6.698359  \n",
              "279              34  pcs  11.437275  \n",
              "285              32  pcs  11.437275  "
            ],
            "text/html": [
              "\n",
              "  <div id=\"df-e9710f0c-7043-44e5-8db0-4ffa51b243f2\">\n",
              "    <div class=\"colab-df-container\">\n",
              "      <div>\n",
              "<style scoped>\n",
              "    .dataframe tbody tr th:only-of-type {\n",
              "        vertical-align: middle;\n",
              "    }\n",
              "\n",
              "    .dataframe tbody tr th {\n",
              "        vertical-align: top;\n",
              "    }\n",
              "\n",
              "    .dataframe thead th {\n",
              "        text-align: right;\n",
              "    }\n",
              "</style>\n",
              "<table border=\"1\" class=\"dataframe\">\n",
              "  <thead>\n",
              "    <tr style=\"text-align: right;\">\n",
              "      <th></th>\n",
              "      <th>product_code</th>\n",
              "      <th>product_description</th>\n",
              "      <th>product_group</th>\n",
              "      <th>sales_date</th>\n",
              "      <th>price</th>\n",
              "      <th>sales_quantity</th>\n",
              "      <th>unit</th>\n",
              "      <th>price_new</th>\n",
              "    </tr>\n",
              "  </thead>\n",
              "  <tbody>\n",
              "    <tr>\n",
              "      <th>10</th>\n",
              "      <td>1001</td>\n",
              "      <td>tomato</td>\n",
              "      <td>vegetable</td>\n",
              "      <td>2021-11-11</td>\n",
              "      <td>NaN</td>\n",
              "      <td>20</td>\n",
              "      <td>kg</td>\n",
              "      <td>3.129515</td>\n",
              "    </tr>\n",
              "    <tr>\n",
              "      <th>34</th>\n",
              "      <td>1002</td>\n",
              "      <td>cucumber</td>\n",
              "      <td>vegetable</td>\n",
              "      <td>2021-11-05</td>\n",
              "      <td>NaN</td>\n",
              "      <td>24</td>\n",
              "      <td>kg</td>\n",
              "      <td>4.538954</td>\n",
              "    </tr>\n",
              "    <tr>\n",
              "      <th>37</th>\n",
              "      <td>1002</td>\n",
              "      <td>cucumber</td>\n",
              "      <td>vegetable</td>\n",
              "      <td>2021-11-08</td>\n",
              "      <td>NaN</td>\n",
              "      <td>38</td>\n",
              "      <td>kg</td>\n",
              "      <td>4.538954</td>\n",
              "    </tr>\n",
              "    <tr>\n",
              "      <th>73</th>\n",
              "      <td>1003</td>\n",
              "      <td>onion</td>\n",
              "      <td>vegetable</td>\n",
              "      <td>2021-11-14</td>\n",
              "      <td>NaN</td>\n",
              "      <td>39</td>\n",
              "      <td>kg</td>\n",
              "      <td>2.154286</td>\n",
              "    </tr>\n",
              "    <tr>\n",
              "      <th>74</th>\n",
              "      <td>1003</td>\n",
              "      <td>onion</td>\n",
              "      <td>vegetable</td>\n",
              "      <td>2021-11-15</td>\n",
              "      <td>NaN</td>\n",
              "      <td>25</td>\n",
              "      <td>kg</td>\n",
              "      <td>2.154286</td>\n",
              "    </tr>\n",
              "    <tr>\n",
              "      <th>99</th>\n",
              "      <td>1101</td>\n",
              "      <td>plum</td>\n",
              "      <td>fruit</td>\n",
              "      <td>2021-11-10</td>\n",
              "      <td>NaN</td>\n",
              "      <td>36</td>\n",
              "      <td>kg</td>\n",
              "      <td>4.393506</td>\n",
              "    </tr>\n",
              "    <tr>\n",
              "      <th>127</th>\n",
              "      <td>1102</td>\n",
              "      <td>orange</td>\n",
              "      <td>fruit</td>\n",
              "      <td>2021-11-08</td>\n",
              "      <td>NaN</td>\n",
              "      <td>28</td>\n",
              "      <td>kg</td>\n",
              "      <td>2.707126</td>\n",
              "    </tr>\n",
              "    <tr>\n",
              "      <th>141</th>\n",
              "      <td>1102</td>\n",
              "      <td>orange</td>\n",
              "      <td>fruit</td>\n",
              "      <td>2021-11-22</td>\n",
              "      <td>NaN</td>\n",
              "      <td>38</td>\n",
              "      <td>kg</td>\n",
              "      <td>2.707126</td>\n",
              "    </tr>\n",
              "    <tr>\n",
              "      <th>154</th>\n",
              "      <td>1103</td>\n",
              "      <td>apple</td>\n",
              "      <td>fruit</td>\n",
              "      <td>2021-11-05</td>\n",
              "      <td>NaN</td>\n",
              "      <td>28</td>\n",
              "      <td>kg</td>\n",
              "      <td>2.073250</td>\n",
              "    </tr>\n",
              "    <tr>\n",
              "      <th>160</th>\n",
              "      <td>1103</td>\n",
              "      <td>apple</td>\n",
              "      <td>fruit</td>\n",
              "      <td>2021-11-11</td>\n",
              "      <td>NaN</td>\n",
              "      <td>21</td>\n",
              "      <td>kg</td>\n",
              "      <td>2.073250</td>\n",
              "    </tr>\n",
              "    <tr>\n",
              "      <th>176</th>\n",
              "      <td>1103</td>\n",
              "      <td>apple</td>\n",
              "      <td>fruit</td>\n",
              "      <td>2021-11-27</td>\n",
              "      <td>NaN</td>\n",
              "      <td>29</td>\n",
              "      <td>kg</td>\n",
              "      <td>2.073250</td>\n",
              "    </tr>\n",
              "    <tr>\n",
              "      <th>224</th>\n",
              "      <td>1201</td>\n",
              "      <td>milk-1.5</td>\n",
              "      <td>dairy</td>\n",
              "      <td>2021-11-15</td>\n",
              "      <td>NaN</td>\n",
              "      <td>24</td>\n",
              "      <td>pcs</td>\n",
              "      <td>6.084807</td>\n",
              "    </tr>\n",
              "    <tr>\n",
              "      <th>230</th>\n",
              "      <td>1201</td>\n",
              "      <td>milk-1.5</td>\n",
              "      <td>dairy</td>\n",
              "      <td>2021-11-21</td>\n",
              "      <td>NaN</td>\n",
              "      <td>24</td>\n",
              "      <td>pcs</td>\n",
              "      <td>6.084807</td>\n",
              "    </tr>\n",
              "    <tr>\n",
              "      <th>263</th>\n",
              "      <td>1202</td>\n",
              "      <td>yogurt-1</td>\n",
              "      <td>dairy</td>\n",
              "      <td>2021-11-24</td>\n",
              "      <td>NaN</td>\n",
              "      <td>29</td>\n",
              "      <td>pcs</td>\n",
              "      <td>6.698359</td>\n",
              "    </tr>\n",
              "    <tr>\n",
              "      <th>279</th>\n",
              "      <td>1203</td>\n",
              "      <td>butter-0.25</td>\n",
              "      <td>dairy</td>\n",
              "      <td>2021-11-10</td>\n",
              "      <td>NaN</td>\n",
              "      <td>34</td>\n",
              "      <td>pcs</td>\n",
              "      <td>11.437275</td>\n",
              "    </tr>\n",
              "    <tr>\n",
              "      <th>285</th>\n",
              "      <td>1203</td>\n",
              "      <td>butter-0.25</td>\n",
              "      <td>dairy</td>\n",
              "      <td>2021-11-16</td>\n",
              "      <td>NaN</td>\n",
              "      <td>32</td>\n",
              "      <td>pcs</td>\n",
              "      <td>11.437275</td>\n",
              "    </tr>\n",
              "  </tbody>\n",
              "</table>\n",
              "</div>\n",
              "      <button class=\"colab-df-convert\" onclick=\"convertToInteractive('df-e9710f0c-7043-44e5-8db0-4ffa51b243f2')\"\n",
              "              title=\"Convert this dataframe to an interactive table.\"\n",
              "              style=\"display:none;\">\n",
              "        \n",
              "  <svg xmlns=\"http://www.w3.org/2000/svg\" height=\"24px\"viewBox=\"0 0 24 24\"\n",
              "       width=\"24px\">\n",
              "    <path d=\"M0 0h24v24H0V0z\" fill=\"none\"/>\n",
              "    <path d=\"M18.56 5.44l.94 2.06.94-2.06 2.06-.94-2.06-.94-.94-2.06-.94 2.06-2.06.94zm-11 1L8.5 8.5l.94-2.06 2.06-.94-2.06-.94L8.5 2.5l-.94 2.06-2.06.94zm10 10l.94 2.06.94-2.06 2.06-.94-2.06-.94-.94-2.06-.94 2.06-2.06.94z\"/><path d=\"M17.41 7.96l-1.37-1.37c-.4-.4-.92-.59-1.43-.59-.52 0-1.04.2-1.43.59L10.3 9.45l-7.72 7.72c-.78.78-.78 2.05 0 2.83L4 21.41c.39.39.9.59 1.41.59.51 0 1.02-.2 1.41-.59l7.78-7.78 2.81-2.81c.8-.78.8-2.07 0-2.86zM5.41 20L4 18.59l7.72-7.72 1.47 1.35L5.41 20z\"/>\n",
              "  </svg>\n",
              "      </button>\n",
              "      \n",
              "  <style>\n",
              "    .colab-df-container {\n",
              "      display:flex;\n",
              "      flex-wrap:wrap;\n",
              "      gap: 12px;\n",
              "    }\n",
              "\n",
              "    .colab-df-convert {\n",
              "      background-color: #E8F0FE;\n",
              "      border: none;\n",
              "      border-radius: 50%;\n",
              "      cursor: pointer;\n",
              "      display: none;\n",
              "      fill: #1967D2;\n",
              "      height: 32px;\n",
              "      padding: 0 0 0 0;\n",
              "      width: 32px;\n",
              "    }\n",
              "\n",
              "    .colab-df-convert:hover {\n",
              "      background-color: #E2EBFA;\n",
              "      box-shadow: 0px 1px 2px rgba(60, 64, 67, 0.3), 0px 1px 3px 1px rgba(60, 64, 67, 0.15);\n",
              "      fill: #174EA6;\n",
              "    }\n",
              "\n",
              "    [theme=dark] .colab-df-convert {\n",
              "      background-color: #3B4455;\n",
              "      fill: #D2E3FC;\n",
              "    }\n",
              "\n",
              "    [theme=dark] .colab-df-convert:hover {\n",
              "      background-color: #434B5C;\n",
              "      box-shadow: 0px 1px 3px 1px rgba(0, 0, 0, 0.15);\n",
              "      filter: drop-shadow(0px 1px 2px rgba(0, 0, 0, 0.3));\n",
              "      fill: #FFFFFF;\n",
              "    }\n",
              "  </style>\n",
              "\n",
              "      <script>\n",
              "        const buttonEl =\n",
              "          document.querySelector('#df-e9710f0c-7043-44e5-8db0-4ffa51b243f2 button.colab-df-convert');\n",
              "        buttonEl.style.display =\n",
              "          google.colab.kernel.accessAllowed ? 'block' : 'none';\n",
              "\n",
              "        async function convertToInteractive(key) {\n",
              "          const element = document.querySelector('#df-e9710f0c-7043-44e5-8db0-4ffa51b243f2');\n",
              "          const dataTable =\n",
              "            await google.colab.kernel.invokeFunction('convertToInteractive',\n",
              "                                                     [key], {});\n",
              "          if (!dataTable) return;\n",
              "\n",
              "          const docLinkHtml = 'Like what you see? Visit the ' +\n",
              "            '<a target=\"_blank\" href=https://colab.research.google.com/notebooks/data_table.ipynb>data table notebook</a>'\n",
              "            + ' to learn more about interactive tables.';\n",
              "          element.innerHTML = '';\n",
              "          dataTable['output_type'] = 'display_data';\n",
              "          await google.colab.output.renderOutput(dataTable, element);\n",
              "          const docLink = document.createElement('div');\n",
              "          docLink.innerHTML = docLinkHtml;\n",
              "          element.appendChild(docLink);\n",
              "        }\n",
              "      </script>\n",
              "    </div>\n",
              "  </div>\n",
              "  "
            ]
          },
          "metadata": {},
          "execution_count": 10
        }
      ]
    },
    {
      "cell_type": "code",
      "source": [
        "df.to_csv(\"main1.csv\")"
      ],
      "metadata": {
        "id": "jFgEaMvP0WBf"
      },
      "execution_count": 15,
      "outputs": []
    }
  ]
}